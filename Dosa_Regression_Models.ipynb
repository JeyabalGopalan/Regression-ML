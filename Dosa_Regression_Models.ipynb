{
 "cells": [
  {
   "cell_type": "code",
   "execution_count": 1,
   "id": "9b9f6831-c759-4f1b-b08e-ece24fb8b15f",
   "metadata": {},
   "outputs": [],
   "source": [
    "import pandas as pd \n",
    "import numpy as np\n",
    "import matplotlib.pyplot as plt\n",
    "import seaborn as sns\n",
    "\n",
    "from sklearn.linear_model import LinearRegression\n",
    "from sklearn.model_selection import train_test_split, cross_val_score\n",
    "from sklearn.metrics import mean_absolute_error, mean_squared_error"
   ]
  },
  {
   "cell_type": "raw",
   "id": "a776f910-ee8c-48a1-bb32-ee4db873c4a3",
   "metadata": {},
   "source": [
    "Number of visitors (more people, more money)\n",
    "Average dosa price (₹) (changes with offers)\n",
    "Temperature (°C) (hot weather makes people crave cold drinks and food)"
   ]
  },
  {
   "cell_type": "code",
   "execution_count": 3,
   "id": "98b601db-8fe3-462c-9742-bf750074f203",
   "metadata": {},
   "outputs": [
    {
     "data": {
      "text/html": [
       "<div>\n",
       "<style scoped>\n",
       "    .dataframe tbody tr th:only-of-type {\n",
       "        vertical-align: middle;\n",
       "    }\n",
       "\n",
       "    .dataframe tbody tr th {\n",
       "        vertical-align: top;\n",
       "    }\n",
       "\n",
       "    .dataframe thead th {\n",
       "        text-align: right;\n",
       "    }\n",
       "</style>\n",
       "<table border=\"1\" class=\"dataframe\">\n",
       "  <thead>\n",
       "    <tr style=\"text-align: right;\">\n",
       "      <th></th>\n",
       "      <th>Number of Visitors</th>\n",
       "      <th>Dosa Sales</th>\n",
       "      <th>Dosa Price (₹)</th>\n",
       "      <th>Temperature (°C)</th>\n",
       "      <th>Daily Revenue (₹)</th>\n",
       "    </tr>\n",
       "  </thead>\n",
       "  <tbody>\n",
       "    <tr>\n",
       "      <th>0</th>\n",
       "      <td>152</td>\n",
       "      <td>303</td>\n",
       "      <td>43.05</td>\n",
       "      <td>34</td>\n",
       "      <td>7234.01</td>\n",
       "    </tr>\n",
       "    <tr>\n",
       "      <th>1</th>\n",
       "      <td>485</td>\n",
       "      <td>979</td>\n",
       "      <td>93.20</td>\n",
       "      <td>28</td>\n",
       "      <td>45963.56</td>\n",
       "    </tr>\n",
       "    <tr>\n",
       "      <th>2</th>\n",
       "      <td>398</td>\n",
       "      <td>786</td>\n",
       "      <td>41.66</td>\n",
       "      <td>20</td>\n",
       "      <td>16347.49</td>\n",
       "    </tr>\n",
       "    <tr>\n",
       "      <th>3</th>\n",
       "      <td>320</td>\n",
       "      <td>647</td>\n",
       "      <td>74.73</td>\n",
       "      <td>33</td>\n",
       "      <td>24289.21</td>\n",
       "    </tr>\n",
       "    <tr>\n",
       "      <th>4</th>\n",
       "      <td>156</td>\n",
       "      <td>316</td>\n",
       "      <td>66.31</td>\n",
       "      <td>34</td>\n",
       "      <td>10957.12</td>\n",
       "    </tr>\n",
       "    <tr>\n",
       "      <th>...</th>\n",
       "      <td>...</td>\n",
       "      <td>...</td>\n",
       "      <td>...</td>\n",
       "      <td>...</td>\n",
       "      <td>...</td>\n",
       "    </tr>\n",
       "    <tr>\n",
       "      <th>195</th>\n",
       "      <td>490</td>\n",
       "      <td>995</td>\n",
       "      <td>95.48</td>\n",
       "      <td>27</td>\n",
       "      <td>47021.51</td>\n",
       "    </tr>\n",
       "    <tr>\n",
       "      <th>196</th>\n",
       "      <td>183</td>\n",
       "      <td>365</td>\n",
       "      <td>95.15</td>\n",
       "      <td>20</td>\n",
       "      <td>17842.89</td>\n",
       "    </tr>\n",
       "    <tr>\n",
       "      <th>197</th>\n",
       "      <td>333</td>\n",
       "      <td>646</td>\n",
       "      <td>55.18</td>\n",
       "      <td>29</td>\n",
       "      <td>18238.74</td>\n",
       "    </tr>\n",
       "    <tr>\n",
       "      <th>198</th>\n",
       "      <td>77</td>\n",
       "      <td>141</td>\n",
       "      <td>81.72</td>\n",
       "      <td>20</td>\n",
       "      <td>5995.80</td>\n",
       "    </tr>\n",
       "    <tr>\n",
       "      <th>199</th>\n",
       "      <td>157</td>\n",
       "      <td>309</td>\n",
       "      <td>44.53</td>\n",
       "      <td>31</td>\n",
       "      <td>7646.59</td>\n",
       "    </tr>\n",
       "  </tbody>\n",
       "</table>\n",
       "<p>200 rows × 5 columns</p>\n",
       "</div>"
      ],
      "text/plain": [
       "     Number of Visitors  Dosa Sales  Dosa Price (₹)  Temperature (°C)  \\\n",
       "0                   152         303           43.05                34   \n",
       "1                   485         979           93.20                28   \n",
       "2                   398         786           41.66                20   \n",
       "3                   320         647           74.73                33   \n",
       "4                   156         316           66.31                34   \n",
       "..                  ...         ...             ...               ...   \n",
       "195                 490         995           95.48                27   \n",
       "196                 183         365           95.15                20   \n",
       "197                 333         646           55.18                29   \n",
       "198                  77         141           81.72                20   \n",
       "199                 157         309           44.53                31   \n",
       "\n",
       "     Daily Revenue (₹)  \n",
       "0              7234.01  \n",
       "1             45963.56  \n",
       "2             16347.49  \n",
       "3             24289.21  \n",
       "4             10957.12  \n",
       "..                 ...  \n",
       "195           47021.51  \n",
       "196           17842.89  \n",
       "197           18238.74  \n",
       "198            5995.80  \n",
       "199            7646.59  \n",
       "\n",
       "[200 rows x 5 columns]"
      ]
     },
     "execution_count": 3,
     "metadata": {},
     "output_type": "execute_result"
    }
   ],
   "source": [
    "data = pd.read_csv('saravana_bhavan_regression.csv')\n",
    "data"
   ]
  },
  {
   "cell_type": "markdown",
   "id": "e5d18901-d6ba-4c8a-911e-d763b8bbbf3c",
   "metadata": {},
   "source": [
    "# Simple Linear Regression Title:\n",
    "## \"Predicting Dosa Sales Based on Customer Footfall at Saravana Bhavan\""
   ]
  },
  {
   "cell_type": "code",
   "execution_count": 5,
   "id": "17ed3ee3-be7f-459d-b2b1-58e1a41c34a2",
   "metadata": {},
   "outputs": [],
   "source": [
    "X = data[['Number of Visitors']]\n",
    "y = data[['Dosa Sales']]\n",
    "\n",
    "# Model\n",
    "model = LinearRegression().fit(X, y)"
   ]
  },
  {
   "cell_type": "code",
   "execution_count": 7,
   "id": "9d90f986-37f7-4a9f-b738-5f4e23f35d45",
   "metadata": {},
   "outputs": [
    {
     "data": {
      "text/plain": [
       "Text(0, 0.5, 'Dosa Sales')"
      ]
     },
     "execution_count": 7,
     "metadata": {},
     "output_type": "execute_result"
    },
    {
     "data": {
      "image/png": "[encoded data removed]",
      "text/plain": [
       "<Figure size 640x480 with 1 Axes>"
      ]
     },
     "metadata": {},
     "output_type": "display_data"
    }
   ],
   "source": [
    "#Ploting Scatter\n",
    "\n",
    "plt.scatter(X,y, color='Red')\n",
    "plt.title('No.of.Visitor VS Dosa Sales')\n",
    "plt.xlabel('No.of.Visitor')\n",
    "plt.ylabel('Dosa Sales')"
   ]
  },
  {
   "cell_type": "code",
   "execution_count": 9,
   "id": "e1e6f03b-22a6-4ac1-b292-4ca869d2e26d",
   "metadata": {},
   "outputs": [
    {
     "data": {
      "text/html": [
       "<div>\n",
       "<style scoped>\n",
       "    .dataframe tbody tr th:only-of-type {\n",
       "        vertical-align: middle;\n",
       "    }\n",
       "\n",
       "    .dataframe tbody tr th {\n",
       "        vertical-align: top;\n",
       "    }\n",
       "\n",
       "    .dataframe thead th {\n",
       "        text-align: right;\n",
       "    }\n",
       "</style>\n",
       "<table border=\"1\" class=\"dataframe\">\n",
       "  <thead>\n",
       "    <tr style=\"text-align: right;\">\n",
       "      <th></th>\n",
       "      <th>Number of Visitors</th>\n",
       "      <th>Dosa Sales</th>\n",
       "      <th>Dosa Price (₹)</th>\n",
       "      <th>Temperature (°C)</th>\n",
       "      <th>Daily Revenue (₹)</th>\n",
       "    </tr>\n",
       "  </thead>\n",
       "  <tbody>\n",
       "    <tr>\n",
       "      <th>0</th>\n",
       "      <td>152</td>\n",
       "      <td>303</td>\n",
       "      <td>43.05</td>\n",
       "      <td>34</td>\n",
       "      <td>7234.01</td>\n",
       "    </tr>\n",
       "    <tr>\n",
       "      <th>1</th>\n",
       "      <td>485</td>\n",
       "      <td>979</td>\n",
       "      <td>93.20</td>\n",
       "      <td>28</td>\n",
       "      <td>45963.56</td>\n",
       "    </tr>\n",
       "    <tr>\n",
       "      <th>2</th>\n",
       "      <td>398</td>\n",
       "      <td>786</td>\n",
       "      <td>41.66</td>\n",
       "      <td>20</td>\n",
       "      <td>16347.49</td>\n",
       "    </tr>\n",
       "    <tr>\n",
       "      <th>3</th>\n",
       "      <td>320</td>\n",
       "      <td>647</td>\n",
       "      <td>74.73</td>\n",
       "      <td>33</td>\n",
       "      <td>24289.21</td>\n",
       "    </tr>\n",
       "    <tr>\n",
       "      <th>4</th>\n",
       "      <td>156</td>\n",
       "      <td>316</td>\n",
       "      <td>66.31</td>\n",
       "      <td>34</td>\n",
       "      <td>10957.12</td>\n",
       "    </tr>\n",
       "  </tbody>\n",
       "</table>\n",
       "</div>"
      ],
      "text/plain": [
       "   Number of Visitors  Dosa Sales  Dosa Price (₹)  Temperature (°C)  \\\n",
       "0                 152         303           43.05                34   \n",
       "1                 485         979           93.20                28   \n",
       "2                 398         786           41.66                20   \n",
       "3                 320         647           74.73                33   \n",
       "4                 156         316           66.31                34   \n",
       "\n",
       "   Daily Revenue (₹)  \n",
       "0            7234.01  \n",
       "1           45963.56  \n",
       "2           16347.49  \n",
       "3           24289.21  \n",
       "4           10957.12  "
      ]
     },
     "execution_count": 9,
     "metadata": {},
     "output_type": "execute_result"
    }
   ],
   "source": [
    "# Checking the data head\n",
    "\n",
    "data.head()"
   ]
  },
  {
   "cell_type": "markdown",
   "id": "fec4a640-8988-45d4-9724-8c3d81ddb68e",
   "metadata": {},
   "source": [
    "#### Simple Linaer Regression Y^ = B0 + B1(X) + Error"
   ]
  },
  {
   "cell_type": "code",
   "execution_count": 11,
   "id": "3abc3239-d4c0-42ad-b7c6-8d3ca21eba06",
   "metadata": {},
   "outputs": [
    {
     "data": {
      "text/plain": [
       "1.3437857611899062"
      ]
     },
     "execution_count": 11,
     "metadata": {},
     "output_type": "execute_result"
    }
   ],
   "source": [
    "# B0=> Bias\n",
    "\n",
    "model.intercept_[0]"
   ]
  },
  {
   "cell_type": "code",
   "execution_count": 13,
   "id": "39bf659b-b552-4a64-9986-23123101f80b",
   "metadata": {},
   "outputs": [
    {
     "data": {
      "text/plain": [
       "2.0000784913099996"
      ]
     },
     "execution_count": 13,
     "metadata": {},
     "output_type": "execute_result"
    }
   ],
   "source": [
    "# B1 => Coeff\n",
    "\n",
    "model.coef_[0][0]"
   ]
  },
  {
   "cell_type": "code",
   "execution_count": 15,
   "id": "040aaef7-05ee-4674-9e57-81617f23b0b3",
   "metadata": {},
   "outputs": [
    {
     "data": {
      "text/plain": [
       "2001.4222770711895"
      ]
     },
     "execution_count": 15,
     "metadata": {},
     "output_type": "execute_result"
    }
   ],
   "source": [
    "# Our Hotel has got an order to cook dosa for 1000 people gathered for Marriage function, So we can check the Revenue\n",
    "\n",
    "model.intercept_[0]+model.coef_[0][0]* 1000"
   ]
  },
  {
   "cell_type": "code",
   "execution_count": 17,
   "id": "64519783-2e3e-4889-a643-028942406c7b",
   "metadata": {},
   "outputs": [
    {
     "data": {
      "image/png": "[encoded data removed]",
      "text/plain": [
       "<Figure size 640x480 with 1 Axes>"
      ]
     },
     "metadata": {},
     "output_type": "display_data"
    }
   ],
   "source": [
    "# Creating the best fit line\n",
    "\n",
    "j= sns.regplot(x = X, y = y, scatter_kws={'color':'b', 's':10}, color='r')\n",
    "plt.show()"
   ]
  },
  {
   "cell_type": "code",
   "execution_count": 19,
   "id": "6c2db077-2f1d-4b88-a8d9-3ecac2ba8249",
   "metadata": {},
   "outputs": [],
   "source": [
    "# Predictions\n",
    "\n",
    "y_pred = model.predict(X)"
   ]
  },
  {
   "cell_type": "code",
   "execution_count": 21,
   "id": "e09b8e3a-cc00-4003-9d51-531e297c8524",
   "metadata": {},
   "outputs": [
    {
     "data": {
      "text/plain": [
       "147.26167181336154"
      ]
     },
     "execution_count": 21,
     "metadata": {},
     "output_type": "execute_result"
    }
   ],
   "source": [
    "#MSE \n",
    "\n",
    "mean_squared_error(y, y_pred)"
   ]
  },
  {
   "cell_type": "code",
   "execution_count": 23,
   "id": "4935c363-a969-4f25-a238-d44969747de3",
   "metadata": {},
   "outputs": [
    {
     "data": {
      "text/plain": [
       "12.135142018672939"
      ]
     },
     "execution_count": 23,
     "metadata": {},
     "output_type": "execute_result"
    }
   ],
   "source": [
    "# RMSE\n",
    "\n",
    "np.sqrt(mean_squared_error(y, y_pred))"
   ]
  },
  {
   "cell_type": "code",
   "execution_count": 25,
   "id": "e45ede5f-434d-4a4b-a0dd-20a4aad750d9",
   "metadata": {},
   "outputs": [
    {
     "data": {
      "text/plain": [
       "10.442092681720865"
      ]
     },
     "execution_count": 25,
     "metadata": {},
     "output_type": "execute_result"
    }
   ],
   "source": [
    "#MAE\n",
    "\n",
    "mean_absolute_error(y, y_pred)"
   ]
  },
  {
   "cell_type": "code",
   "execution_count": 27,
   "id": "b883aedb-36c9-49cb-9e99-3e18a1374104",
   "metadata": {},
   "outputs": [
    {
     "data": {
      "text/plain": [
       "0.9978068828381073"
      ]
     },
     "execution_count": 27,
     "metadata": {},
     "output_type": "execute_result"
    }
   ],
   "source": [
    "#R2-Score\n",
    "\n",
    "model.score(X,y)"
   ]
  },
  {
   "cell_type": "markdown",
   "id": "d83d967c-8504-44c0-acd0-92a67a7ac2bf",
   "metadata": {},
   "source": [
    "# Multiple Linear Regression Title:\n",
    "### \"Estimating Daily Revenue at Saravana Bhavan Using Customer Visits, Dosa Sales, and Weather Conditions\""
   ]
  },
  {
   "cell_type": "code",
   "execution_count": 29,
   "id": "eefeccab-406b-47a2-a4f6-fa734af5adf5",
   "metadata": {},
   "outputs": [
    {
     "data": {
      "text/html": [
       "<div>\n",
       "<style scoped>\n",
       "    .dataframe tbody tr th:only-of-type {\n",
       "        vertical-align: middle;\n",
       "    }\n",
       "\n",
       "    .dataframe tbody tr th {\n",
       "        vertical-align: top;\n",
       "    }\n",
       "\n",
       "    .dataframe thead th {\n",
       "        text-align: right;\n",
       "    }\n",
       "</style>\n",
       "<table border=\"1\" class=\"dataframe\">\n",
       "  <thead>\n",
       "    <tr style=\"text-align: right;\">\n",
       "      <th></th>\n",
       "      <th>Number of Visitors</th>\n",
       "      <th>Dosa Sales</th>\n",
       "      <th>Dosa Price (₹)</th>\n",
       "      <th>Temperature (°C)</th>\n",
       "      <th>Daily Revenue (₹)</th>\n",
       "    </tr>\n",
       "  </thead>\n",
       "  <tbody>\n",
       "    <tr>\n",
       "      <th>0</th>\n",
       "      <td>152</td>\n",
       "      <td>303</td>\n",
       "      <td>43.05</td>\n",
       "      <td>34</td>\n",
       "      <td>7234.01</td>\n",
       "    </tr>\n",
       "    <tr>\n",
       "      <th>1</th>\n",
       "      <td>485</td>\n",
       "      <td>979</td>\n",
       "      <td>93.20</td>\n",
       "      <td>28</td>\n",
       "      <td>45963.56</td>\n",
       "    </tr>\n",
       "    <tr>\n",
       "      <th>2</th>\n",
       "      <td>398</td>\n",
       "      <td>786</td>\n",
       "      <td>41.66</td>\n",
       "      <td>20</td>\n",
       "      <td>16347.49</td>\n",
       "    </tr>\n",
       "    <tr>\n",
       "      <th>3</th>\n",
       "      <td>320</td>\n",
       "      <td>647</td>\n",
       "      <td>74.73</td>\n",
       "      <td>33</td>\n",
       "      <td>24289.21</td>\n",
       "    </tr>\n",
       "    <tr>\n",
       "      <th>4</th>\n",
       "      <td>156</td>\n",
       "      <td>316</td>\n",
       "      <td>66.31</td>\n",
       "      <td>34</td>\n",
       "      <td>10957.12</td>\n",
       "    </tr>\n",
       "  </tbody>\n",
       "</table>\n",
       "</div>"
      ],
      "text/plain": [
       "   Number of Visitors  Dosa Sales  Dosa Price (₹)  Temperature (°C)  \\\n",
       "0                 152         303           43.05                34   \n",
       "1                 485         979           93.20                28   \n",
       "2                 398         786           41.66                20   \n",
       "3                 320         647           74.73                33   \n",
       "4                 156         316           66.31                34   \n",
       "\n",
       "   Daily Revenue (₹)  \n",
       "0            7234.01  \n",
       "1           45963.56  \n",
       "2           16347.49  \n",
       "3           24289.21  \n",
       "4           10957.12  "
      ]
     },
     "execution_count": 29,
     "metadata": {},
     "output_type": "execute_result"
    }
   ],
   "source": [
    "# Checking the data head\n",
    "\n",
    "data.head()"
   ]
  },
  {
   "cell_type": "code",
   "execution_count": 31,
   "id": "64c65b8b-4eda-4612-9880-b2a76de30597",
   "metadata": {},
   "outputs": [],
   "source": [
    "X = data[['Number of Visitors','Dosa Sales','Temperature (°C)' ]]\n",
    "Y = data[['Daily Revenue (₹)']]"
   ]
  },
  {
   "cell_type": "code",
   "execution_count": 33,
   "id": "67138b2f-5d2d-4083-a61f-27ceca8c0d95",
   "metadata": {},
   "outputs": [],
   "source": [
    "x_train, x_test, y_train, y_test = train_test_split(X, Y, test_size=0.3)"
   ]
  },
  {
   "cell_type": "code",
   "execution_count": 35,
   "id": "b871f321-7d9f-4588-96da-b6ed2d0a11e5",
   "metadata": {},
   "outputs": [
    {
     "data": {
      "text/plain": [
       "(140, 3)"
      ]
     },
     "execution_count": 35,
     "metadata": {},
     "output_type": "execute_result"
    }
   ],
   "source": [
    "x_train.shape"
   ]
  },
  {
   "cell_type": "code",
   "execution_count": 37,
   "id": "7e08e1b6-6668-42a5-b7db-b7d7b322cd38",
   "metadata": {},
   "outputs": [
    {
     "data": {
      "text/plain": [
       "(140, 1)"
      ]
     },
     "execution_count": 37,
     "metadata": {},
     "output_type": "execute_result"
    }
   ],
   "source": [
    "y_train.shape"
   ]
  },
  {
   "cell_type": "code",
   "execution_count": 39,
   "id": "35fdfe32-5ed7-4e15-89ab-6a4836fb124c",
   "metadata": {},
   "outputs": [
    {
     "data": {
      "text/plain": [
       "(60, 3)"
      ]
     },
     "execution_count": 39,
     "metadata": {},
     "output_type": "execute_result"
    }
   ],
   "source": [
    "x_test.shape"
   ]
  },
  {
   "cell_type": "code",
   "execution_count": 41,
   "id": "802d90d1-2d14-463c-b13c-d59c2e59e4fd",
   "metadata": {},
   "outputs": [],
   "source": [
    "reg_mod_2= LinearRegression().fit(x_train, y_train)"
   ]
  },
  {
   "cell_type": "code",
   "execution_count": 43,
   "id": "ddf4c834-1d0c-4606-80f4-e270102721e2",
   "metadata": {},
   "outputs": [
    {
     "data": {
      "text/plain": [
       "-1018.3581153358682"
      ]
     },
     "execution_count": 43,
     "metadata": {},
     "output_type": "execute_result"
    }
   ],
   "source": [
    "reg_mod_2.intercept_[0]"
   ]
  },
  {
   "cell_type": "code",
   "execution_count": 45,
   "id": "6f803523-f923-49ec-8dd4-eed7338bbbbc",
   "metadata": {},
   "outputs": [
    {
     "data": {
      "text/plain": [
       "104.763887223506"
      ]
     },
     "execution_count": 45,
     "metadata": {},
     "output_type": "execute_result"
    }
   ],
   "source": [
    "reg_mod_2.coef_[0][0]"
   ]
  },
  {
   "cell_type": "code",
   "execution_count": 51,
   "id": "1b9f9624-c0d0-4583-8d19-53a2686201ee",
   "metadata": {},
   "outputs": [],
   "source": [
    "#Model Pred\n",
    "\n",
    "ND= [[100], [187], [35]]\n",
    "ND= pd.DataFrame(ND).T"
   ]
  },
  {
   "cell_type": "code",
   "execution_count": 53,
   "id": "41f937cd-44e1-4244-a549-c9633e86d204",
   "metadata": {},
   "outputs": [
    {
     "name": "stderr",
     "output_type": "stream",
     "text": [
      "C:\\Users\\jeyaj\\anaconda3\\Lib\\site-packages\\sklearn\\base.py:439: UserWarning: X does not have valid feature names, but LinearRegression was fitted with feature names\n",
      "  warnings.warn(\n"
     ]
    },
    {
     "data": {
      "text/plain": [
       "array([[7136.12136529]])"
      ]
     },
     "execution_count": 53,
     "metadata": {},
     "output_type": "execute_result"
    }
   ],
   "source": [
    "reg_mod_2.predict(ND)"
   ]
  },
  {
   "cell_type": "code",
   "execution_count": 55,
   "id": "c83784ba-847a-4576-952d-027e62cd8b72",
   "metadata": {},
   "outputs": [
    {
     "data": {
      "text/plain": [
       "5315.277563166149"
      ]
     },
     "execution_count": 55,
     "metadata": {},
     "output_type": "execute_result"
    }
   ],
   "source": [
    "#RMSE\n",
    "y_pred_1= reg_mod_2.predict(x_train)\n",
    "np.sqrt(mean_squared_error(y_train, y_pred_1))"
   ]
  },
  {
   "cell_type": "code",
   "execution_count": 57,
   "id": "e8975788-4d74-4338-9fe7-a4624afa77de",
   "metadata": {},
   "outputs": [
    {
     "data": {
      "text/plain": [
       "0.7681953499144434"
      ]
     },
     "execution_count": 57,
     "metadata": {},
     "output_type": "execute_result"
    }
   ],
   "source": [
    "reg_mod_2.score(x_train, y_train)"
   ]
  },
  {
   "cell_type": "code",
   "execution_count": 59,
   "id": "cb6e0020-23e3-4c87-91c8-188cc97fa9c7",
   "metadata": {},
   "outputs": [
    {
     "data": {
      "text/plain": [
       "5328.894299479056"
      ]
     },
     "execution_count": 59,
     "metadata": {},
     "output_type": "execute_result"
    }
   ],
   "source": [
    "#RMSE\n",
    "y_pred_1= reg_mod_2.predict(x_test)\n",
    "np.sqrt(mean_squared_error(y_test, y_pred_1))"
   ]
  },
  {
   "cell_type": "code",
   "execution_count": 61,
   "id": "3d00ba98-6eb4-4b43-bf5b-2724d682d561",
   "metadata": {},
   "outputs": [
    {
     "data": {
      "text/plain": [
       "0.7467600482213201"
      ]
     },
     "execution_count": 61,
     "metadata": {},
     "output_type": "execute_result"
    }
   ],
   "source": [
    "reg_mod_2.score(x_test, y_test)"
   ]
  }
 ],
 "metadata": {
  "kernelspec": {
   "display_name": "Python 3 (ipykernel)",
   "language": "python",
   "name": "python3"
  },
  "language_info": {
   "codemirror_mode": {
    "name": "ipython",
    "version": 3
   },
   "file_extension": ".py",
   "mimetype": "text/x-python",
   "name": "python",
   "nbconvert_exporter": "python",
   "pygments_lexer": "ipython3",
   "version": "3.11.7"
  }
 },
 "nbformat": 4,
 "nbformat_minor": 5
}
